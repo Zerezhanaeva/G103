{
 "cells": [
  {
   "cell_type": "markdown",
   "id": "bc85d2c1",
   "metadata": {},
   "source": [
    "Assign your name to a variable my_name = \"Madina\" and then print a\n",
    "message “Hello and good luck, Madina!”.\n",
    "Do not forget to change the name to yours. "
   ]
  },
  {
   "cell_type": "code",
   "execution_count": 1,
   "id": "fbe05485",
   "metadata": {},
   "outputs": [
    {
     "name": "stdout",
     "output_type": "stream",
     "text": [
      "Hello and good luck,Zere!\n"
     ]
    }
   ],
   "source": [
    "my_name=\"Zere\"\n",
    "print(\"Hello and good luck,\" + (my_name)+\"!\")"
   ]
  },
  {
   "cell_type": "markdown",
   "id": "97e74eb8",
   "metadata": {},
   "source": [
    "a) How many seconds are there in 42 minutes 42 seconds?"
   ]
  },
  {
   "cell_type": "code",
   "execution_count": 2,
   "id": "08a03d8f",
   "metadata": {},
   "outputs": [
    {
     "name": "stdout",
     "output_type": "stream",
     "text": [
      "2562\n"
     ]
    }
   ],
   "source": [
    "minutes=42 \n",
    "second=42\n",
    "total_second=(minutes*60)+second\n",
    "print(total_second)"
   ]
  },
  {
   "cell_type": "markdown",
   "id": "09419f07",
   "metadata": {},
   "source": [
    "b) How many miles are there in 10 kilometers? Hint: there are 1.61\n",
    "kilometers in a mile."
   ]
  },
  {
   "cell_type": "code",
   "execution_count": 3,
   "id": "f2d4e336",
   "metadata": {},
   "outputs": [
    {
     "name": "stdout",
     "output_type": "stream",
     "text": [
      "6.211180124223602\n"
     ]
    }
   ],
   "source": [
    "kilometer=10\n",
    "total_mile=(kilometer/1.61)\n",
    "print(total_mile)"
   ]
  },
  {
   "cell_type": "code",
   "execution_count": 4,
   "id": "574f3463",
   "metadata": {},
   "outputs": [
    {
     "ename": "SyntaxError",
     "evalue": "unmatched ')' (<ipython-input-4-1f156ca817b9>, line 1)",
     "output_type": "error",
     "traceback": [
      "\u001b[1;36m  File \u001b[1;32m\"<ipython-input-4-1f156ca817b9>\"\u001b[1;36m, line \u001b[1;32m1\u001b[0m\n\u001b[1;33m    c) If you run a 10 kilometer race in 42 minutes 42 seconds, what is\u001b[0m\n\u001b[1;37m     ^\u001b[0m\n\u001b[1;31mSyntaxError\u001b[0m\u001b[1;31m:\u001b[0m unmatched ')'\n"
     ]
    }
   ],
   "source": []
  },
  {
   "cell_type": "markdown",
   "id": "cadac0d9",
   "metadata": {},
   "source": [
    "c) If you run a 10 kilometer race in 42 minutes 42 seconds, what is\n",
    "your average pace (time per mile in minutes and seconds)? What is\n",
    "your average speed in miles per hour?"
   ]
  },
  {
   "cell_type": "code",
   "execution_count": 5,
   "id": "2d7d4c81",
   "metadata": {},
   "outputs": [
    {
     "name": "stdout",
     "output_type": "stream",
     "text": [
      "0.0024243482139826703 0.14546089283896022 8.727653570337614\n"
     ]
    }
   ],
   "source": [
    "s=6.211180124223602\n",
    "t=2562\n",
    "a=42\n",
    "b=60\n",
    "print(s/t, s/(a+a/b), s/((a+a/b)/b))"
   ]
  },
  {
   "cell_type": "markdown",
   "id": "ffaa9358",
   "metadata": {},
   "source": [
    "Calculate the Golden ratio: 1+ √5/2"
   ]
  },
  {
   "cell_type": "code",
   "execution_count": 6,
   "id": "101adabb",
   "metadata": {},
   "outputs": [
    {
     "name": "stdout",
     "output_type": "stream",
     "text": [
      "1.618033988749895\n"
     ]
    }
   ],
   "source": [
    "ratio=(1+5**(1/2))/2\n",
    "print(ratio)"
   ]
  },
  {
   "cell_type": "code",
   "execution_count": null,
   "id": "36c8edb1",
   "metadata": {},
   "outputs": [],
   "source": []
  }
 ],
 "metadata": {
  "kernelspec": {
   "display_name": "Python 3",
   "language": "python",
   "name": "python3"
  },
  "language_info": {
   "codemirror_mode": {
    "name": "ipython",
    "version": 3
   },
   "file_extension": ".py",
   "mimetype": "text/x-python",
   "name": "python",
   "nbconvert_exporter": "python",
   "pygments_lexer": "ipython3",
   "version": "3.8.8"
  }
 },
 "nbformat": 4,
 "nbformat_minor": 5
}
